{
 "cells": [
  {
   "cell_type": "code",
   "execution_count": 1,
   "metadata": {},
   "outputs": [],
   "source": [
    "%config IPCompleter.greedy=True\n",
    "\n",
    "import pandas\n",
    "import numpy\n",
    "import matplotlib.pyplot as plt\n",
    "from sklearn.feature_selection import SelectKBest\n",
    "from sklearn.feature_selection import f_classif"
   ]
  },
  {
   "cell_type": "code",
   "execution_count": 2,
   "metadata": {},
   "outputs": [],
   "source": [
    "classes = {\n",
    "    1: 'normal',\n",
    "    2: 'hyperthyroidism',\n",
    "    3: 'hypothyroidism'\n",
    "}\n",
    "\n",
    "attributes = [\n",
    "    'age',\n",
    "    'sex',\n",
    "    'on_thyroxine',\n",
    "    'query_on_thyroxine',\n",
    "    'on_antithyroid_medication',\n",
    "    'sick',\n",
    "    'pregnant',\n",
    "    'thyroid_surgery',\n",
    "    'I131_treatment',\n",
    "    'query_hypothyroid',\n",
    "    'query_hyperthyroid',\n",
    "    'lithium',\n",
    "    'goitre',\n",
    "    'tumor',\n",
    "    'hypopituitary',\n",
    "    'psych',\n",
    "    'TSH',\n",
    "    'T3',\n",
    "    'TT4',\n",
    "    'T4U',\n",
    "    'FTI'\n",
    "]"
   ]
  },
  {
   "cell_type": "code",
   "execution_count": 3,
   "metadata": {},
   "outputs": [],
   "source": [
    "train_data = []\n",
    "train_data_labels = []\n",
    "\n",
    "with open('data/ann-train.data') as data_file:\n",
    "    train_data = pandas.read_csv(data_file, delimiter=' ', header=None)\n",
    "\n",
    "train_data = train_data.drop(labels=[22,23], axis='columns')\n",
    "\n",
    "train_data.columns = attributes + ['class']\n",
    "\n",
    "train_data_labels = train_data['class']\n",
    "\n",
    "train_data = train_data.drop('class', axis='columns')"
   ]
  },
  {
   "cell_type": "code",
   "execution_count": 4,
   "metadata": {},
   "outputs": [
    {
     "name": "stdout",
     "output_type": "stream",
     "text": [
      "TSH: 1148.28\n",
      "FTI: 340.53\n",
      "TT4: 290.46\n",
      "T3: 119.54\n",
      "on_thyroxine: 14.73\n",
      "query_hypothyroid: 13.97\n",
      "sex: 4.43\n",
      "T4U: 2.93\n",
      "sick: 2.81\n",
      "psych: 2.64\n",
      "pregnant: 2.19\n",
      "thyroid_surgery: 1.6\n",
      "goitre: 1.36\n",
      "on_antithyroid_medication: 0.92\n",
      "query_hyperthyroid: 0.71\n",
      "query_on_thyroxine: 0.67\n",
      "age: 0.57\n",
      "lithium: 0.24\n",
      "tumor: 0.18\n",
      "I131_treatment: 0.13\n",
      "hypopituitary: 0.04\n"
     ]
    }
   ],
   "source": [
    "anova_filter = SelectKBest(f_classif, k='all')\n",
    "\n",
    "anova_filter.fit(train_data, train_data_labels)\n",
    "\n",
    "attribute_score = [ (name, score) for name, score in zip(train_data.columns, numpy.around(anova_filter.scores_, 2)) ]\n",
    "\n",
    "attribute_score.sort(key=lambda x: x[1], reverse=True)\n",
    "\n",
    "print(*('{}: {}'.format(name, score) for name, score in attribute_score), sep='\\n')"
   ]
  },
  {
   "cell_type": "code",
   "execution_count": 5,
   "metadata": {},
   "outputs": [
    {
     "data": {
      "image/png": "[encoded data removed]",
      "text/plain": [
       "<Figure size 1440x720 with 1 Axes>"
      ]
     },
     "metadata": {
      "needs_background": "light"
     },
     "output_type": "display_data"
    }
   ],
   "source": [
    "plt.figure(figsize=(20,10))\n",
    "\n",
    "y_pos = numpy.arange(len(attributes))\n",
    "plt.barh(y_pos, [ score[1] for score in attribute_score ], height=0.6)\n",
    "plt.yticks(y_pos, [ score[0] for score in attribute_score ])\n",
    "plt.gca().invert_yaxis()\n",
    "plt.title('Ranking cech wg miary ANOVA')\n",
    "plt.xlabel('Przydatność do klasyfikacji')\n",
    "plt.ylabel('Cecha')\n",
    "plt.show()"
   ]
  },
  {
   "cell_type": "code",
   "execution_count": 216,
   "metadata": {},
   "outputs": [
    {
     "name": "stdout",
     "output_type": "stream",
     "text": [
      "random3 0 3\n",
      "random6 0 6\n",
      "random12 0 12\n",
      "best3 0 3\n",
      "best6 0 6\n",
      "best12 0 8\n",
      "random3 1 3\n",
      "random6 1 6\n",
      "random12 1 12\n",
      "best3 1 3\n",
      "best6 1 6\n",
      "best12 1 8\n",
      "random3 2 3\n",
      "random6 2 6\n",
      "random12 2 12\n",
      "best3 2 3\n",
      "best6 2 6\n",
      "best12 2 8\n",
      "random3 3 3\n",
      "random6 3 6\n",
      "random12 3 12\n",
      "best3 3 3\n",
      "best6 3 6\n",
      "best12 3 8\n",
      "random3 4 3\n",
      "random6 4 6\n",
      "random12 4 12\n",
      "best3 4 3\n",
      "best6 4 6\n",
      "best12 4 8\n",
      "random3 5 3\n",
      "random6 5 6\n",
      "random12 5 12\n",
      "best3 5 3\n",
      "best6 5 6\n",
      "best12 5 8\n"
     ]
    }
   ],
   "source": [
    "from sklearn import tree\n",
    "from sklearn import clone\n",
    "from sklearn.model_selection import cross_val_score\n",
    "\n",
    "#test data do badania (mozna wyrzucic lub dać gdzie indziej)\n",
    "with open('data/ann-test.data') as data_file:\n",
    "    test_data = pandas.read_csv(data_file, delimiter=' ', header=None)\n",
    "test_data = test_data.drop(labels=[22,23], axis='columns')\n",
    "test_data.columns = attributes + ['class']\n",
    "test_data_labels = test_data['class']\n",
    "test_data = test_data.drop('class', axis='columns')\n",
    "\n",
    "\n",
    "#Drzewo decyzyjne cart – 2 różne kryteria podziału oraz 3 wartościmaksymalnej głębokości drzewa.\n",
    "models = {\n",
    "    'random3' : tree.DecisionTreeClassifier(max_depth=3, splitter='random'),\n",
    "    'random6' : tree.DecisionTreeClassifier(max_depth=6, splitter='random'),\n",
    "    'random12' : tree.DecisionTreeClassifier(max_depth=12, splitter='random'),\n",
    "    'best3' : tree.DecisionTreeClassifier(max_depth=3, splitter='best'),\n",
    "    'best6' : tree.DecisionTreeClassifier(max_depth=6, splitter='best'),\n",
    "    'best12' : tree.DecisionTreeClassifier(max_depth=12, splitter='best'),\n",
    "}\n",
    "\n",
    "X = train_data.append(test_data)\n",
    "y = train_data_labels.append(test_data_labels)\n",
    "\n",
    "results = {\n",
    "    'random3' : [],\n",
    "    'random6' : [],\n",
    "    'random12' : [],\n",
    "    'best3' : [],\n",
    "    'best6' : [],\n",
    "    'best12' : [],\n",
    "}\n",
    "\n",
    "#dla roznych liczb cech od 1 do 6 cech przeprowadzamy badanie\n",
    "for iteration in range (0,6):\n",
    "    feature_count = iteration + 1\n",
    "    data = SelectKBest(f_classif, k=feature_count)\n",
    "    data.fit(train_data, train_data_labels)\n",
    "    #dla kazdych parametrow drzewa\n",
    "    for model_name, model_type in models.items():\n",
    "        test = clone(model_type)\n",
    "        \n",
    "        scores = numpy.array([])\n",
    "        \n",
    "        #5 razy powtórzona 2-krotna walidacja\n",
    "        for repetition in range(0,5):\n",
    "            scores = numpy.append(scores, cross_val_score(test, X, y, cv=2))\n",
    "        \n",
    "        results[model_name].append((numpy.mean(scores), numpy.std(scores), len(scores)))\n",
    "                                "
   ]
  },
  {
   "cell_type": "code",
   "execution_count": 207,
   "metadata": {},
   "outputs": [
    {
     "name": "stdout",
     "output_type": "stream",
     "text": [
      "random3 [0.9404, 0.9425, 0.9414, 0.9346, 0.9411, 0.9398]\n",
      "random6 [0.9522, 0.9587, 0.9648, 0.9596, 0.9594, 0.9694]\n",
      "random12 [0.9842, 0.9848, 0.9796, 0.9804, 0.9815, 0.9852]\n",
      "best3 [0.9907, 0.9907, 0.9907, 0.9907, 0.9907, 0.9907]\n",
      "best6 [0.9936, 0.9937, 0.9936, 0.9936, 0.9934, 0.9936]\n",
      "best12 [0.9934, 0.9934, 0.9933, 0.9933, 0.9933, 0.9933]\n"
     ]
    }
   ],
   "source": [
    "#średnie wyniki zaokrąglone do 4 miejsc po przecinku\n",
    "for model_name in results.keys():\n",
    "    print(model_name, [round(stat[0],4) for stat in results[model_name]])"
   ]
  },
  {
   "cell_type": "code",
   "execution_count": 208,
   "metadata": {},
   "outputs": [],
   "source": [
    "from scipy import stats\n",
    "\n",
    "#analiza statystyczna - test parowy t-Studenta\n",
    "\n",
    "ttest_results = {}\n",
    "\n",
    "for model_name_1 in results.keys():\n",
    "    #znalezienie liczby cech, która dała maksymalny średni wynik\n",
    "    feature_count_1 = numpy.argmax(results[model_name_1], 0)[0]\n",
    "    #pobranie statystyk dla tej liczby cech\n",
    "    mean1, std1, nobs1 = results[model_name_1][feature_count_1]\n",
    "    \n",
    "    #dla wyników pozostałych klasyfikatorów\n",
    "    for model_name_2 in results.keys():\n",
    "        if (model_name_1 != model_name_2):\n",
    "            feature_count_2 = numpy.argmax(results[model_name_2], 0)[0] #j.w.\n",
    "            mean2, std2, nobs2 = results[model_name_2][feature_count_2] #j.w.\n",
    "            \n",
    "            key = \"{}_{}|{}_{}\".format(model_name_1, feature_count_1, model_name_2, feature_count_2)\n",
    "            #test t-studenta dla danych statystyk\n",
    "            ttest_results[key] = tuple(stats.ttest_ind_from_stats(mean1, std1, nobs1, mean2, std2, nobs2))"
   ]
  },
  {
   "cell_type": "code",
   "execution_count": 214,
   "metadata": {},
   "outputs": [
    {
     "name": "stdout",
     "output_type": "stream",
     "text": [
      "random3_1|random6_5: -5.9522, 0.0000\n",
      "random3_1|random12_5: -15.9633, 0.0000\n",
      "random3_1|best3_0: -18.3554, 0.0000\n",
      "random3_1|best6_1: -20.3296, 0.0000\n",
      "random3_1|best12_0: -20.2612, 0.0000\n",
      "random6_5|random3_1: 5.9522, 0.0000\n",
      "random6_5|random12_5: -4.0400, 0.0008\n",
      "random6_5|best3_0: -5.5033, 0.0000\n",
      "random6_5|best6_1: -6.3928, 0.0000\n",
      "random6_5|best12_0: -6.3254, 0.0000\n",
      "random12_5|random3_1: 15.9633, 0.0000\n",
      "random12_5|random6_5: 4.0400, 0.0008\n",
      "random12_5|best3_0: -4.3130, 0.0004\n",
      "random12_5|best6_1: -8.1665, 0.0000\n",
      "random12_5|best12_0: -7.9971, 0.0000\n",
      "best3_0|random3_1: 18.3554, 0.0000\n",
      "best3_0|random6_5: 5.5033, 0.0000\n",
      "best3_0|random12_5: 4.3130, 0.0004\n",
      "best3_0|best6_1: -3.2558, 0.0044\n",
      "best3_0|best12_0: -2.9991, 0.0077\n",
      "best6_1|random3_1: 20.3296, 0.0000\n",
      "best6_1|random6_5: 6.3928, 0.0000\n",
      "best6_1|random12_5: 8.1665, 0.0000\n",
      "best6_1|best3_0: 3.2558, 0.0044\n",
      "best6_1|best12_0: 0.5580, 0.5837\n",
      "best12_0|random3_1: 20.2612, 0.0000\n",
      "best12_0|random6_5: 6.3254, 0.0000\n",
      "best12_0|random12_5: 7.9971, 0.0000\n",
      "best12_0|best3_0: 2.9991, 0.0077\n",
      "best12_0|best6_1: -0.5580, 0.5837\n"
     ]
    }
   ],
   "source": [
    "#wyniki testów t-Studenta dla par klasyfikatorów zaokrąglone do 4 miejsc po przecinku\n",
    "for ttest_key, ttest_result in ttest_results.items():\n",
    "    print(\"{}: {:0.4f}, {:0.4f}\".format(ttest_key, round(ttest_result[0], 4), round(ttest_result[1], 4)))"
   ]
  },
  {
   "cell_type": "code",
   "execution_count": null,
   "metadata": {},
   "outputs": [],
   "source": []
  }
 ],
 "metadata": {
  "kernelspec": {
   "display_name": "Python 3",
   "language": "python",
   "name": "python3"
  },
  "language_info": {
   "codemirror_mode": {
    "name": "ipython",
    "version": 3
   },
   "file_extension": ".py",
   "mimetype": "text/x-python",
   "name": "python",
   "nbconvert_exporter": "python",
   "pygments_lexer": "ipython3",
   "version": "3.8.5"
  }
 },
 "nbformat": 4,
 "nbformat_minor": 4
}
